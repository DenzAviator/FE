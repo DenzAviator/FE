{
 "cells": [
  {
   "cell_type": "code",
   "execution_count": 122,
   "id": "e9ef5362",
   "metadata": {},
   "outputs": [],
   "source": [
    "import pandas as pd"
   ]
  },
  {
   "cell_type": "code",
   "execution_count": 123,
   "id": "523fb988",
   "metadata": {},
   "outputs": [],
   "source": [
    "df=pd.read_csv(r\"C:\\Users\\GWAFA\\AppData\\Local\\Temp\\Temp1_archive (14).zip\\Social_Network_Ads.csv\")"
   ]
  },
  {
   "cell_type": "code",
   "execution_count": 124,
   "id": "e400f8b6",
   "metadata": {},
   "outputs": [
    {
     "data": {
      "application/vnd.microsoft.datawrangler.viewer.v0+json": {
       "columns": [
        {
         "name": "index",
         "rawType": "int64",
         "type": "integer"
        },
        {
         "name": "User ID",
         "rawType": "int64",
         "type": "integer"
        },
        {
         "name": "Gender",
         "rawType": "object",
         "type": "string"
        },
        {
         "name": "Age",
         "rawType": "int64",
         "type": "integer"
        },
        {
         "name": "EstimatedSalary",
         "rawType": "int64",
         "type": "integer"
        },
        {
         "name": "Purchased",
         "rawType": "int64",
         "type": "integer"
        }
       ],
       "conversionMethod": "pd.DataFrame",
       "ref": "1e26fbf0-30cd-40e9-9666-44ac752b9496",
       "rows": [
        [
         "0",
         "15624510",
         "Male",
         "19",
         "19000",
         "0"
        ],
        [
         "1",
         "15810944",
         "Male",
         "35",
         "20000",
         "0"
        ],
        [
         "2",
         "15668575",
         "Female",
         "26",
         "43000",
         "0"
        ],
        [
         "3",
         "15603246",
         "Female",
         "27",
         "57000",
         "0"
        ],
        [
         "4",
         "15804002",
         "Male",
         "19",
         "76000",
         "0"
        ]
       ],
       "shape": {
        "columns": 5,
        "rows": 5
       }
      },
      "text/html": [
       "<div>\n",
       "<style scoped>\n",
       "    .dataframe tbody tr th:only-of-type {\n",
       "        vertical-align: middle;\n",
       "    }\n",
       "\n",
       "    .dataframe tbody tr th {\n",
       "        vertical-align: top;\n",
       "    }\n",
       "\n",
       "    .dataframe thead th {\n",
       "        text-align: right;\n",
       "    }\n",
       "</style>\n",
       "<table border=\"1\" class=\"dataframe\">\n",
       "  <thead>\n",
       "    <tr style=\"text-align: right;\">\n",
       "      <th></th>\n",
       "      <th>User ID</th>\n",
       "      <th>Gender</th>\n",
       "      <th>Age</th>\n",
       "      <th>EstimatedSalary</th>\n",
       "      <th>Purchased</th>\n",
       "    </tr>\n",
       "  </thead>\n",
       "  <tbody>\n",
       "    <tr>\n",
       "      <th>0</th>\n",
       "      <td>15624510</td>\n",
       "      <td>Male</td>\n",
       "      <td>19</td>\n",
       "      <td>19000</td>\n",
       "      <td>0</td>\n",
       "    </tr>\n",
       "    <tr>\n",
       "      <th>1</th>\n",
       "      <td>15810944</td>\n",
       "      <td>Male</td>\n",
       "      <td>35</td>\n",
       "      <td>20000</td>\n",
       "      <td>0</td>\n",
       "    </tr>\n",
       "    <tr>\n",
       "      <th>2</th>\n",
       "      <td>15668575</td>\n",
       "      <td>Female</td>\n",
       "      <td>26</td>\n",
       "      <td>43000</td>\n",
       "      <td>0</td>\n",
       "    </tr>\n",
       "    <tr>\n",
       "      <th>3</th>\n",
       "      <td>15603246</td>\n",
       "      <td>Female</td>\n",
       "      <td>27</td>\n",
       "      <td>57000</td>\n",
       "      <td>0</td>\n",
       "    </tr>\n",
       "    <tr>\n",
       "      <th>4</th>\n",
       "      <td>15804002</td>\n",
       "      <td>Male</td>\n",
       "      <td>19</td>\n",
       "      <td>76000</td>\n",
       "      <td>0</td>\n",
       "    </tr>\n",
       "  </tbody>\n",
       "</table>\n",
       "</div>"
      ],
      "text/plain": [
       "    User ID  Gender  Age  EstimatedSalary  Purchased\n",
       "0  15624510    Male   19            19000          0\n",
       "1  15810944    Male   35            20000          0\n",
       "2  15668575  Female   26            43000          0\n",
       "3  15603246  Female   27            57000          0\n",
       "4  15804002    Male   19            76000          0"
      ]
     },
     "execution_count": 124,
     "metadata": {},
     "output_type": "execute_result"
    }
   ],
   "source": [
    "df.head()"
   ]
  },
  {
   "cell_type": "code",
   "execution_count": 125,
   "id": "f288f465",
   "metadata": {},
   "outputs": [],
   "source": [
    "df=df.iloc[:,2:]"
   ]
  },
  {
   "cell_type": "code",
   "execution_count": 126,
   "id": "66c22617",
   "metadata": {},
   "outputs": [
    {
     "data": {
      "application/vnd.microsoft.datawrangler.viewer.v0+json": {
       "columns": [
        {
         "name": "index",
         "rawType": "int64",
         "type": "integer"
        },
        {
         "name": "Age",
         "rawType": "int64",
         "type": "integer"
        },
        {
         "name": "EstimatedSalary",
         "rawType": "int64",
         "type": "integer"
        },
        {
         "name": "Purchased",
         "rawType": "int64",
         "type": "integer"
        }
       ],
       "conversionMethod": "pd.DataFrame",
       "ref": "620155d1-8d03-469a-ab60-2c686d95b6bb",
       "rows": [
        [
         "0",
         "19",
         "19000",
         "0"
        ],
        [
         "1",
         "35",
         "20000",
         "0"
        ],
        [
         "2",
         "26",
         "43000",
         "0"
        ],
        [
         "3",
         "27",
         "57000",
         "0"
        ],
        [
         "4",
         "19",
         "76000",
         "0"
        ],
        [
         "5",
         "27",
         "58000",
         "0"
        ],
        [
         "6",
         "27",
         "84000",
         "0"
        ],
        [
         "7",
         "32",
         "150000",
         "1"
        ],
        [
         "8",
         "25",
         "33000",
         "0"
        ],
        [
         "9",
         "35",
         "65000",
         "0"
        ],
        [
         "10",
         "26",
         "80000",
         "0"
        ],
        [
         "11",
         "26",
         "52000",
         "0"
        ],
        [
         "12",
         "20",
         "86000",
         "0"
        ],
        [
         "13",
         "32",
         "18000",
         "0"
        ],
        [
         "14",
         "18",
         "82000",
         "0"
        ],
        [
         "15",
         "29",
         "80000",
         "0"
        ],
        [
         "16",
         "47",
         "25000",
         "1"
        ],
        [
         "17",
         "45",
         "26000",
         "1"
        ],
        [
         "18",
         "46",
         "28000",
         "1"
        ],
        [
         "19",
         "48",
         "29000",
         "1"
        ],
        [
         "20",
         "45",
         "22000",
         "1"
        ],
        [
         "21",
         "47",
         "49000",
         "1"
        ],
        [
         "22",
         "48",
         "41000",
         "1"
        ],
        [
         "23",
         "45",
         "22000",
         "1"
        ],
        [
         "24",
         "46",
         "23000",
         "1"
        ],
        [
         "25",
         "47",
         "20000",
         "1"
        ],
        [
         "26",
         "49",
         "28000",
         "1"
        ],
        [
         "27",
         "47",
         "30000",
         "1"
        ],
        [
         "28",
         "29",
         "43000",
         "0"
        ],
        [
         "29",
         "31",
         "18000",
         "0"
        ],
        [
         "30",
         "31",
         "74000",
         "0"
        ],
        [
         "31",
         "27",
         "137000",
         "1"
        ],
        [
         "32",
         "21",
         "16000",
         "0"
        ],
        [
         "33",
         "28",
         "44000",
         "0"
        ],
        [
         "34",
         "27",
         "90000",
         "0"
        ],
        [
         "35",
         "35",
         "27000",
         "0"
        ],
        [
         "36",
         "33",
         "28000",
         "0"
        ],
        [
         "37",
         "30",
         "49000",
         "0"
        ],
        [
         "38",
         "26",
         "72000",
         "0"
        ],
        [
         "39",
         "27",
         "31000",
         "0"
        ],
        [
         "40",
         "27",
         "17000",
         "0"
        ],
        [
         "41",
         "33",
         "51000",
         "0"
        ],
        [
         "42",
         "35",
         "108000",
         "0"
        ],
        [
         "43",
         "30",
         "15000",
         "0"
        ],
        [
         "44",
         "28",
         "84000",
         "0"
        ],
        [
         "45",
         "23",
         "20000",
         "0"
        ],
        [
         "46",
         "25",
         "79000",
         "0"
        ],
        [
         "47",
         "27",
         "54000",
         "0"
        ],
        [
         "48",
         "30",
         "135000",
         "1"
        ],
        [
         "49",
         "31",
         "89000",
         "0"
        ]
       ],
       "shape": {
        "columns": 3,
        "rows": 400
       }
      },
      "text/html": [
       "<div>\n",
       "<style scoped>\n",
       "    .dataframe tbody tr th:only-of-type {\n",
       "        vertical-align: middle;\n",
       "    }\n",
       "\n",
       "    .dataframe tbody tr th {\n",
       "        vertical-align: top;\n",
       "    }\n",
       "\n",
       "    .dataframe thead th {\n",
       "        text-align: right;\n",
       "    }\n",
       "</style>\n",
       "<table border=\"1\" class=\"dataframe\">\n",
       "  <thead>\n",
       "    <tr style=\"text-align: right;\">\n",
       "      <th></th>\n",
       "      <th>Age</th>\n",
       "      <th>EstimatedSalary</th>\n",
       "      <th>Purchased</th>\n",
       "    </tr>\n",
       "  </thead>\n",
       "  <tbody>\n",
       "    <tr>\n",
       "      <th>0</th>\n",
       "      <td>19</td>\n",
       "      <td>19000</td>\n",
       "      <td>0</td>\n",
       "    </tr>\n",
       "    <tr>\n",
       "      <th>1</th>\n",
       "      <td>35</td>\n",
       "      <td>20000</td>\n",
       "      <td>0</td>\n",
       "    </tr>\n",
       "    <tr>\n",
       "      <th>2</th>\n",
       "      <td>26</td>\n",
       "      <td>43000</td>\n",
       "      <td>0</td>\n",
       "    </tr>\n",
       "    <tr>\n",
       "      <th>3</th>\n",
       "      <td>27</td>\n",
       "      <td>57000</td>\n",
       "      <td>0</td>\n",
       "    </tr>\n",
       "    <tr>\n",
       "      <th>4</th>\n",
       "      <td>19</td>\n",
       "      <td>76000</td>\n",
       "      <td>0</td>\n",
       "    </tr>\n",
       "    <tr>\n",
       "      <th>...</th>\n",
       "      <td>...</td>\n",
       "      <td>...</td>\n",
       "      <td>...</td>\n",
       "    </tr>\n",
       "    <tr>\n",
       "      <th>395</th>\n",
       "      <td>46</td>\n",
       "      <td>41000</td>\n",
       "      <td>1</td>\n",
       "    </tr>\n",
       "    <tr>\n",
       "      <th>396</th>\n",
       "      <td>51</td>\n",
       "      <td>23000</td>\n",
       "      <td>1</td>\n",
       "    </tr>\n",
       "    <tr>\n",
       "      <th>397</th>\n",
       "      <td>50</td>\n",
       "      <td>20000</td>\n",
       "      <td>1</td>\n",
       "    </tr>\n",
       "    <tr>\n",
       "      <th>398</th>\n",
       "      <td>36</td>\n",
       "      <td>33000</td>\n",
       "      <td>0</td>\n",
       "    </tr>\n",
       "    <tr>\n",
       "      <th>399</th>\n",
       "      <td>49</td>\n",
       "      <td>36000</td>\n",
       "      <td>1</td>\n",
       "    </tr>\n",
       "  </tbody>\n",
       "</table>\n",
       "<p>400 rows × 3 columns</p>\n",
       "</div>"
      ],
      "text/plain": [
       "     Age  EstimatedSalary  Purchased\n",
       "0     19            19000          0\n",
       "1     35            20000          0\n",
       "2     26            43000          0\n",
       "3     27            57000          0\n",
       "4     19            76000          0\n",
       "..   ...              ...        ...\n",
       "395   46            41000          1\n",
       "396   51            23000          1\n",
       "397   50            20000          1\n",
       "398   36            33000          0\n",
       "399   49            36000          1\n",
       "\n",
       "[400 rows x 3 columns]"
      ]
     },
     "execution_count": 126,
     "metadata": {},
     "output_type": "execute_result"
    }
   ],
   "source": [
    "df"
   ]
  },
  {
   "cell_type": "markdown",
   "id": "29403145",
   "metadata": {},
   "source": [
    "Train Test Split"
   ]
  },
  {
   "cell_type": "code",
   "execution_count": 127,
   "id": "30bb0ce0",
   "metadata": {},
   "outputs": [],
   "source": [
    "from sklearn.model_selection import train_test_split"
   ]
  },
  {
   "cell_type": "code",
   "execution_count": 128,
   "id": "6a53d512",
   "metadata": {},
   "outputs": [
    {
     "data": {
      "application/vnd.microsoft.datawrangler.viewer.v0+json": {
       "columns": [
        {
         "name": "index",
         "rawType": "int64",
         "type": "integer"
        },
        {
         "name": "Age",
         "rawType": "int64",
         "type": "integer"
        },
        {
         "name": "EstimatedSalary",
         "rawType": "int64",
         "type": "integer"
        },
        {
         "name": "Purchased",
         "rawType": "int64",
         "type": "integer"
        }
       ],
       "conversionMethod": "pd.DataFrame",
       "ref": "7ad34719-c155-4365-88ad-f2c2f2e978ab",
       "rows": [
        [
         "0",
         "19",
         "19000",
         "0"
        ],
        [
         "1",
         "35",
         "20000",
         "0"
        ],
        [
         "2",
         "26",
         "43000",
         "0"
        ],
        [
         "3",
         "27",
         "57000",
         "0"
        ],
        [
         "4",
         "19",
         "76000",
         "0"
        ],
        [
         "5",
         "27",
         "58000",
         "0"
        ],
        [
         "6",
         "27",
         "84000",
         "0"
        ],
        [
         "7",
         "32",
         "150000",
         "1"
        ],
        [
         "8",
         "25",
         "33000",
         "0"
        ],
        [
         "9",
         "35",
         "65000",
         "0"
        ],
        [
         "10",
         "26",
         "80000",
         "0"
        ],
        [
         "11",
         "26",
         "52000",
         "0"
        ],
        [
         "12",
         "20",
         "86000",
         "0"
        ],
        [
         "13",
         "32",
         "18000",
         "0"
        ],
        [
         "14",
         "18",
         "82000",
         "0"
        ],
        [
         "15",
         "29",
         "80000",
         "0"
        ],
        [
         "16",
         "47",
         "25000",
         "1"
        ],
        [
         "17",
         "45",
         "26000",
         "1"
        ],
        [
         "18",
         "46",
         "28000",
         "1"
        ],
        [
         "19",
         "48",
         "29000",
         "1"
        ],
        [
         "20",
         "45",
         "22000",
         "1"
        ],
        [
         "21",
         "47",
         "49000",
         "1"
        ],
        [
         "22",
         "48",
         "41000",
         "1"
        ],
        [
         "23",
         "45",
         "22000",
         "1"
        ],
        [
         "24",
         "46",
         "23000",
         "1"
        ],
        [
         "25",
         "47",
         "20000",
         "1"
        ],
        [
         "26",
         "49",
         "28000",
         "1"
        ],
        [
         "27",
         "47",
         "30000",
         "1"
        ],
        [
         "28",
         "29",
         "43000",
         "0"
        ],
        [
         "29",
         "31",
         "18000",
         "0"
        ],
        [
         "30",
         "31",
         "74000",
         "0"
        ],
        [
         "31",
         "27",
         "137000",
         "1"
        ],
        [
         "32",
         "21",
         "16000",
         "0"
        ],
        [
         "33",
         "28",
         "44000",
         "0"
        ],
        [
         "34",
         "27",
         "90000",
         "0"
        ],
        [
         "35",
         "35",
         "27000",
         "0"
        ],
        [
         "36",
         "33",
         "28000",
         "0"
        ],
        [
         "37",
         "30",
         "49000",
         "0"
        ],
        [
         "38",
         "26",
         "72000",
         "0"
        ],
        [
         "39",
         "27",
         "31000",
         "0"
        ],
        [
         "40",
         "27",
         "17000",
         "0"
        ],
        [
         "41",
         "33",
         "51000",
         "0"
        ],
        [
         "42",
         "35",
         "108000",
         "0"
        ],
        [
         "43",
         "30",
         "15000",
         "0"
        ],
        [
         "44",
         "28",
         "84000",
         "0"
        ],
        [
         "45",
         "23",
         "20000",
         "0"
        ],
        [
         "46",
         "25",
         "79000",
         "0"
        ],
        [
         "47",
         "27",
         "54000",
         "0"
        ],
        [
         "48",
         "30",
         "135000",
         "1"
        ],
        [
         "49",
         "31",
         "89000",
         "0"
        ]
       ],
       "shape": {
        "columns": 3,
        "rows": 400
       }
      },
      "text/html": [
       "<div>\n",
       "<style scoped>\n",
       "    .dataframe tbody tr th:only-of-type {\n",
       "        vertical-align: middle;\n",
       "    }\n",
       "\n",
       "    .dataframe tbody tr th {\n",
       "        vertical-align: top;\n",
       "    }\n",
       "\n",
       "    .dataframe thead th {\n",
       "        text-align: right;\n",
       "    }\n",
       "</style>\n",
       "<table border=\"1\" class=\"dataframe\">\n",
       "  <thead>\n",
       "    <tr style=\"text-align: right;\">\n",
       "      <th></th>\n",
       "      <th>Age</th>\n",
       "      <th>EstimatedSalary</th>\n",
       "      <th>Purchased</th>\n",
       "    </tr>\n",
       "  </thead>\n",
       "  <tbody>\n",
       "    <tr>\n",
       "      <th>0</th>\n",
       "      <td>19</td>\n",
       "      <td>19000</td>\n",
       "      <td>0</td>\n",
       "    </tr>\n",
       "    <tr>\n",
       "      <th>1</th>\n",
       "      <td>35</td>\n",
       "      <td>20000</td>\n",
       "      <td>0</td>\n",
       "    </tr>\n",
       "    <tr>\n",
       "      <th>2</th>\n",
       "      <td>26</td>\n",
       "      <td>43000</td>\n",
       "      <td>0</td>\n",
       "    </tr>\n",
       "    <tr>\n",
       "      <th>3</th>\n",
       "      <td>27</td>\n",
       "      <td>57000</td>\n",
       "      <td>0</td>\n",
       "    </tr>\n",
       "    <tr>\n",
       "      <th>4</th>\n",
       "      <td>19</td>\n",
       "      <td>76000</td>\n",
       "      <td>0</td>\n",
       "    </tr>\n",
       "    <tr>\n",
       "      <th>...</th>\n",
       "      <td>...</td>\n",
       "      <td>...</td>\n",
       "      <td>...</td>\n",
       "    </tr>\n",
       "    <tr>\n",
       "      <th>395</th>\n",
       "      <td>46</td>\n",
       "      <td>41000</td>\n",
       "      <td>1</td>\n",
       "    </tr>\n",
       "    <tr>\n",
       "      <th>396</th>\n",
       "      <td>51</td>\n",
       "      <td>23000</td>\n",
       "      <td>1</td>\n",
       "    </tr>\n",
       "    <tr>\n",
       "      <th>397</th>\n",
       "      <td>50</td>\n",
       "      <td>20000</td>\n",
       "      <td>1</td>\n",
       "    </tr>\n",
       "    <tr>\n",
       "      <th>398</th>\n",
       "      <td>36</td>\n",
       "      <td>33000</td>\n",
       "      <td>0</td>\n",
       "    </tr>\n",
       "    <tr>\n",
       "      <th>399</th>\n",
       "      <td>49</td>\n",
       "      <td>36000</td>\n",
       "      <td>1</td>\n",
       "    </tr>\n",
       "  </tbody>\n",
       "</table>\n",
       "<p>400 rows × 3 columns</p>\n",
       "</div>"
      ],
      "text/plain": [
       "     Age  EstimatedSalary  Purchased\n",
       "0     19            19000          0\n",
       "1     35            20000          0\n",
       "2     26            43000          0\n",
       "3     27            57000          0\n",
       "4     19            76000          0\n",
       "..   ...              ...        ...\n",
       "395   46            41000          1\n",
       "396   51            23000          1\n",
       "397   50            20000          1\n",
       "398   36            33000          0\n",
       "399   49            36000          1\n",
       "\n",
       "[400 rows x 3 columns]"
      ]
     },
     "execution_count": 128,
     "metadata": {},
     "output_type": "execute_result"
    }
   ],
   "source": [
    "df"
   ]
  },
  {
   "cell_type": "code",
   "execution_count": 129,
   "id": "f43a8cb0",
   "metadata": {},
   "outputs": [
    {
     "data": {
      "text/plain": [
       "0      0\n",
       "1      0\n",
       "2      0\n",
       "3      0\n",
       "4      0\n",
       "      ..\n",
       "395    1\n",
       "396    1\n",
       "397    1\n",
       "398    0\n",
       "399    1\n",
       "Name: Purchased, Length: 400, dtype: int64"
      ]
     },
     "execution_count": 129,
     "metadata": {},
     "output_type": "execute_result"
    }
   ],
   "source": [
    "df[\"Purchased\"]"
   ]
  },
  {
   "cell_type": "code",
   "execution_count": 130,
   "id": "9cd483f2",
   "metadata": {},
   "outputs": [
    {
     "data": {
      "application/vnd.microsoft.datawrangler.viewer.v0+json": {
       "columns": [
        {
         "name": "index",
         "rawType": "int64",
         "type": "integer"
        },
        {
         "name": "Age",
         "rawType": "int64",
         "type": "integer"
        },
        {
         "name": "EstimatedSalary",
         "rawType": "int64",
         "type": "integer"
        },
        {
         "name": "Purchased",
         "rawType": "int64",
         "type": "integer"
        }
       ],
       "conversionMethod": "pd.DataFrame",
       "ref": "cd480c6b-66d4-4686-baf1-f9009d5e0331",
       "rows": [
        [
         "0",
         "19",
         "19000",
         "0"
        ],
        [
         "1",
         "35",
         "20000",
         "0"
        ],
        [
         "2",
         "26",
         "43000",
         "0"
        ],
        [
         "3",
         "27",
         "57000",
         "0"
        ],
        [
         "4",
         "19",
         "76000",
         "0"
        ],
        [
         "5",
         "27",
         "58000",
         "0"
        ],
        [
         "6",
         "27",
         "84000",
         "0"
        ],
        [
         "7",
         "32",
         "150000",
         "1"
        ],
        [
         "8",
         "25",
         "33000",
         "0"
        ],
        [
         "9",
         "35",
         "65000",
         "0"
        ],
        [
         "10",
         "26",
         "80000",
         "0"
        ],
        [
         "11",
         "26",
         "52000",
         "0"
        ],
        [
         "12",
         "20",
         "86000",
         "0"
        ],
        [
         "13",
         "32",
         "18000",
         "0"
        ],
        [
         "14",
         "18",
         "82000",
         "0"
        ],
        [
         "15",
         "29",
         "80000",
         "0"
        ],
        [
         "16",
         "47",
         "25000",
         "1"
        ],
        [
         "17",
         "45",
         "26000",
         "1"
        ],
        [
         "18",
         "46",
         "28000",
         "1"
        ],
        [
         "19",
         "48",
         "29000",
         "1"
        ],
        [
         "20",
         "45",
         "22000",
         "1"
        ],
        [
         "21",
         "47",
         "49000",
         "1"
        ],
        [
         "22",
         "48",
         "41000",
         "1"
        ],
        [
         "23",
         "45",
         "22000",
         "1"
        ],
        [
         "24",
         "46",
         "23000",
         "1"
        ],
        [
         "25",
         "47",
         "20000",
         "1"
        ],
        [
         "26",
         "49",
         "28000",
         "1"
        ],
        [
         "27",
         "47",
         "30000",
         "1"
        ],
        [
         "28",
         "29",
         "43000",
         "0"
        ],
        [
         "29",
         "31",
         "18000",
         "0"
        ],
        [
         "30",
         "31",
         "74000",
         "0"
        ],
        [
         "31",
         "27",
         "137000",
         "1"
        ],
        [
         "32",
         "21",
         "16000",
         "0"
        ],
        [
         "33",
         "28",
         "44000",
         "0"
        ],
        [
         "34",
         "27",
         "90000",
         "0"
        ],
        [
         "35",
         "35",
         "27000",
         "0"
        ],
        [
         "36",
         "33",
         "28000",
         "0"
        ],
        [
         "37",
         "30",
         "49000",
         "0"
        ],
        [
         "38",
         "26",
         "72000",
         "0"
        ],
        [
         "39",
         "27",
         "31000",
         "0"
        ],
        [
         "40",
         "27",
         "17000",
         "0"
        ],
        [
         "41",
         "33",
         "51000",
         "0"
        ],
        [
         "42",
         "35",
         "108000",
         "0"
        ],
        [
         "43",
         "30",
         "15000",
         "0"
        ],
        [
         "44",
         "28",
         "84000",
         "0"
        ],
        [
         "45",
         "23",
         "20000",
         "0"
        ],
        [
         "46",
         "25",
         "79000",
         "0"
        ],
        [
         "47",
         "27",
         "54000",
         "0"
        ],
        [
         "48",
         "30",
         "135000",
         "1"
        ],
        [
         "49",
         "31",
         "89000",
         "0"
        ]
       ],
       "shape": {
        "columns": 3,
        "rows": 400
       }
      },
      "text/html": [
       "<div>\n",
       "<style scoped>\n",
       "    .dataframe tbody tr th:only-of-type {\n",
       "        vertical-align: middle;\n",
       "    }\n",
       "\n",
       "    .dataframe tbody tr th {\n",
       "        vertical-align: top;\n",
       "    }\n",
       "\n",
       "    .dataframe thead th {\n",
       "        text-align: right;\n",
       "    }\n",
       "</style>\n",
       "<table border=\"1\" class=\"dataframe\">\n",
       "  <thead>\n",
       "    <tr style=\"text-align: right;\">\n",
       "      <th></th>\n",
       "      <th>Age</th>\n",
       "      <th>EstimatedSalary</th>\n",
       "      <th>Purchased</th>\n",
       "    </tr>\n",
       "  </thead>\n",
       "  <tbody>\n",
       "    <tr>\n",
       "      <th>0</th>\n",
       "      <td>19</td>\n",
       "      <td>19000</td>\n",
       "      <td>0</td>\n",
       "    </tr>\n",
       "    <tr>\n",
       "      <th>1</th>\n",
       "      <td>35</td>\n",
       "      <td>20000</td>\n",
       "      <td>0</td>\n",
       "    </tr>\n",
       "    <tr>\n",
       "      <th>2</th>\n",
       "      <td>26</td>\n",
       "      <td>43000</td>\n",
       "      <td>0</td>\n",
       "    </tr>\n",
       "    <tr>\n",
       "      <th>3</th>\n",
       "      <td>27</td>\n",
       "      <td>57000</td>\n",
       "      <td>0</td>\n",
       "    </tr>\n",
       "    <tr>\n",
       "      <th>4</th>\n",
       "      <td>19</td>\n",
       "      <td>76000</td>\n",
       "      <td>0</td>\n",
       "    </tr>\n",
       "    <tr>\n",
       "      <th>...</th>\n",
       "      <td>...</td>\n",
       "      <td>...</td>\n",
       "      <td>...</td>\n",
       "    </tr>\n",
       "    <tr>\n",
       "      <th>395</th>\n",
       "      <td>46</td>\n",
       "      <td>41000</td>\n",
       "      <td>1</td>\n",
       "    </tr>\n",
       "    <tr>\n",
       "      <th>396</th>\n",
       "      <td>51</td>\n",
       "      <td>23000</td>\n",
       "      <td>1</td>\n",
       "    </tr>\n",
       "    <tr>\n",
       "      <th>397</th>\n",
       "      <td>50</td>\n",
       "      <td>20000</td>\n",
       "      <td>1</td>\n",
       "    </tr>\n",
       "    <tr>\n",
       "      <th>398</th>\n",
       "      <td>36</td>\n",
       "      <td>33000</td>\n",
       "      <td>0</td>\n",
       "    </tr>\n",
       "    <tr>\n",
       "      <th>399</th>\n",
       "      <td>49</td>\n",
       "      <td>36000</td>\n",
       "      <td>1</td>\n",
       "    </tr>\n",
       "  </tbody>\n",
       "</table>\n",
       "<p>400 rows × 3 columns</p>\n",
       "</div>"
      ],
      "text/plain": [
       "     Age  EstimatedSalary  Purchased\n",
       "0     19            19000          0\n",
       "1     35            20000          0\n",
       "2     26            43000          0\n",
       "3     27            57000          0\n",
       "4     19            76000          0\n",
       "..   ...              ...        ...\n",
       "395   46            41000          1\n",
       "396   51            23000          1\n",
       "397   50            20000          1\n",
       "398   36            33000          0\n",
       "399   49            36000          1\n",
       "\n",
       "[400 rows x 3 columns]"
      ]
     },
     "execution_count": 130,
     "metadata": {},
     "output_type": "execute_result"
    }
   ],
   "source": [
    "df"
   ]
  },
  {
   "cell_type": "code",
   "execution_count": 131,
   "id": "3cbeef9b",
   "metadata": {},
   "outputs": [
    {
     "data": {
      "text/plain": [
       "(400, 3)"
      ]
     },
     "execution_count": 131,
     "metadata": {},
     "output_type": "execute_result"
    }
   ],
   "source": [
    "df.shape"
   ]
  },
  {
   "cell_type": "code",
   "execution_count": 132,
   "id": "9a4a656f",
   "metadata": {},
   "outputs": [],
   "source": [
    "# Ensure the \"Purchased\" column exists in the DataFrame\n",
    "X_train, X_test, y_train, y_test = train_test_split(df.drop(\"Purchased\", axis=1), df[\"Purchased\"], test_size=0.25)"
   ]
  },
  {
   "cell_type": "code",
   "execution_count": 133,
   "id": "dcd26372",
   "metadata": {},
   "outputs": [
    {
     "data": {
      "application/vnd.microsoft.datawrangler.viewer.v0+json": {
       "columns": [
        {
         "name": "index",
         "rawType": "int64",
         "type": "integer"
        },
        {
         "name": "Age",
         "rawType": "int64",
         "type": "integer"
        },
        {
         "name": "EstimatedSalary",
         "rawType": "int64",
         "type": "integer"
        }
       ],
       "conversionMethod": "pd.DataFrame",
       "ref": "70ce7a5d-dee8-4861-9567-e03a5ce50898",
       "rows": [
        [
         "208",
         "40",
         "142000"
        ],
        [
         "286",
         "37",
         "62000"
        ],
        [
         "73",
         "33",
         "113000"
        ],
        [
         "378",
         "41",
         "87000"
        ],
        [
         "74",
         "32",
         "18000"
        ],
        [
         "122",
         "40",
         "75000"
        ],
        [
         "90",
         "22",
         "81000"
        ],
        [
         "162",
         "37",
         "33000"
        ],
        [
         "94",
         "29",
         "83000"
        ],
        [
         "379",
         "58",
         "23000"
        ],
        [
         "228",
         "40",
         "72000"
        ],
        [
         "93",
         "29",
         "28000"
        ],
        [
         "242",
         "50",
         "88000"
        ],
        [
         "3",
         "27",
         "57000"
        ],
        [
         "261",
         "36",
         "144000"
        ],
        [
         "274",
         "57",
         "26000"
        ],
        [
         "371",
         "60",
         "83000"
        ],
        [
         "17",
         "45",
         "26000"
        ],
        [
         "233",
         "49",
         "86000"
        ],
        [
         "344",
         "47",
         "105000"
        ],
        [
         "329",
         "47",
         "107000"
        ],
        [
         "50",
         "24",
         "32000"
        ],
        [
         "395",
         "46",
         "41000"
        ],
        [
         "175",
         "23",
         "28000"
        ],
        [
         "4",
         "19",
         "76000"
        ],
        [
         "157",
         "29",
         "75000"
        ],
        [
         "214",
         "47",
         "43000"
        ],
        [
         "309",
         "38",
         "50000"
        ],
        [
         "109",
         "38",
         "80000"
        ],
        [
         "103",
         "33",
         "149000"
        ],
        [
         "348",
         "39",
         "77000"
        ],
        [
         "229",
         "42",
         "80000"
        ],
        [
         "312",
         "38",
         "50000"
        ],
        [
         "55",
         "24",
         "55000"
        ],
        [
         "7",
         "32",
         "150000"
        ],
        [
         "396",
         "51",
         "23000"
        ],
        [
         "325",
         "41",
         "60000"
        ],
        [
         "166",
         "22",
         "55000"
        ],
        [
         "97",
         "28",
         "123000"
        ],
        [
         "324",
         "48",
         "131000"
        ],
        [
         "235",
         "46",
         "79000"
        ],
        [
         "314",
         "39",
         "79000"
        ],
        [
         "372",
         "39",
         "73000"
        ],
        [
         "160",
         "32",
         "100000"
        ],
        [
         "212",
         "59",
         "42000"
        ],
        [
         "357",
         "41",
         "72000"
        ],
        [
         "246",
         "35",
         "50000"
        ],
        [
         "69",
         "31",
         "68000"
        ],
        [
         "137",
         "30",
         "107000"
        ],
        [
         "331",
         "48",
         "119000"
        ]
       ],
       "shape": {
        "columns": 2,
        "rows": 300
       }
      },
      "text/html": [
       "<div>\n",
       "<style scoped>\n",
       "    .dataframe tbody tr th:only-of-type {\n",
       "        vertical-align: middle;\n",
       "    }\n",
       "\n",
       "    .dataframe tbody tr th {\n",
       "        vertical-align: top;\n",
       "    }\n",
       "\n",
       "    .dataframe thead th {\n",
       "        text-align: right;\n",
       "    }\n",
       "</style>\n",
       "<table border=\"1\" class=\"dataframe\">\n",
       "  <thead>\n",
       "    <tr style=\"text-align: right;\">\n",
       "      <th></th>\n",
       "      <th>Age</th>\n",
       "      <th>EstimatedSalary</th>\n",
       "    </tr>\n",
       "  </thead>\n",
       "  <tbody>\n",
       "    <tr>\n",
       "      <th>208</th>\n",
       "      <td>40</td>\n",
       "      <td>142000</td>\n",
       "    </tr>\n",
       "    <tr>\n",
       "      <th>286</th>\n",
       "      <td>37</td>\n",
       "      <td>62000</td>\n",
       "    </tr>\n",
       "    <tr>\n",
       "      <th>73</th>\n",
       "      <td>33</td>\n",
       "      <td>113000</td>\n",
       "    </tr>\n",
       "    <tr>\n",
       "      <th>378</th>\n",
       "      <td>41</td>\n",
       "      <td>87000</td>\n",
       "    </tr>\n",
       "    <tr>\n",
       "      <th>74</th>\n",
       "      <td>32</td>\n",
       "      <td>18000</td>\n",
       "    </tr>\n",
       "    <tr>\n",
       "      <th>...</th>\n",
       "      <td>...</td>\n",
       "      <td>...</td>\n",
       "    </tr>\n",
       "    <tr>\n",
       "      <th>46</th>\n",
       "      <td>25</td>\n",
       "      <td>79000</td>\n",
       "    </tr>\n",
       "    <tr>\n",
       "      <th>321</th>\n",
       "      <td>53</td>\n",
       "      <td>82000</td>\n",
       "    </tr>\n",
       "    <tr>\n",
       "      <th>77</th>\n",
       "      <td>22</td>\n",
       "      <td>27000</td>\n",
       "    </tr>\n",
       "    <tr>\n",
       "      <th>332</th>\n",
       "      <td>42</td>\n",
       "      <td>65000</td>\n",
       "    </tr>\n",
       "    <tr>\n",
       "      <th>28</th>\n",
       "      <td>29</td>\n",
       "      <td>43000</td>\n",
       "    </tr>\n",
       "  </tbody>\n",
       "</table>\n",
       "<p>300 rows × 2 columns</p>\n",
       "</div>"
      ],
      "text/plain": [
       "     Age  EstimatedSalary\n",
       "208   40           142000\n",
       "286   37            62000\n",
       "73    33           113000\n",
       "378   41            87000\n",
       "74    32            18000\n",
       "..   ...              ...\n",
       "46    25            79000\n",
       "321   53            82000\n",
       "77    22            27000\n",
       "332   42            65000\n",
       "28    29            43000\n",
       "\n",
       "[300 rows x 2 columns]"
      ]
     },
     "execution_count": 133,
     "metadata": {},
     "output_type": "execute_result"
    }
   ],
   "source": [
    "X_train"
   ]
  },
  {
   "cell_type": "markdown",
   "id": "a6a6083f",
   "metadata": {},
   "source": [
    "StandardScaler"
   ]
  },
  {
   "cell_type": "code",
   "execution_count": 134,
   "id": "0664f013",
   "metadata": {},
   "outputs": [],
   "source": [
    "from sklearn.preprocessing import StandardScaler"
   ]
  },
  {
   "cell_type": "code",
   "execution_count": 135,
   "id": "2b0d4747",
   "metadata": {},
   "outputs": [],
   "source": [
    "scaler = StandardScaler()"
   ]
  },
  {
   "cell_type": "code",
   "execution_count": 136,
   "id": "08de1bd0",
   "metadata": {},
   "outputs": [
    {
     "data": {
      "text/html": [
       "<style>#sk-container-id-1 {\n",
       "  /* Definition of color scheme common for light and dark mode */\n",
       "  --sklearn-color-text: #000;\n",
       "  --sklearn-color-text-muted: #666;\n",
       "  --sklearn-color-line: gray;\n",
       "  /* Definition of color scheme for unfitted estimators */\n",
       "  --sklearn-color-unfitted-level-0: #fff5e6;\n",
       "  --sklearn-color-unfitted-level-1: #f6e4d2;\n",
       "  --sklearn-color-unfitted-level-2: #ffe0b3;\n",
       "  --sklearn-color-unfitted-level-3: chocolate;\n",
       "  /* Definition of color scheme for fitted estimators */\n",
       "  --sklearn-color-fitted-level-0: #f0f8ff;\n",
       "  --sklearn-color-fitted-level-1: #d4ebff;\n",
       "  --sklearn-color-fitted-level-2: #b3dbfd;\n",
       "  --sklearn-color-fitted-level-3: cornflowerblue;\n",
       "\n",
       "  /* Specific color for light theme */\n",
       "  --sklearn-color-text-on-default-background: var(--sg-text-color, var(--theme-code-foreground, var(--jp-content-font-color1, black)));\n",
       "  --sklearn-color-background: var(--sg-background-color, var(--theme-background, var(--jp-layout-color0, white)));\n",
       "  --sklearn-color-border-box: var(--sg-text-color, var(--theme-code-foreground, var(--jp-content-font-color1, black)));\n",
       "  --sklearn-color-icon: #696969;\n",
       "\n",
       "  @media (prefers-color-scheme: dark) {\n",
       "    /* Redefinition of color scheme for dark theme */\n",
       "    --sklearn-color-text-on-default-background: var(--sg-text-color, var(--theme-code-foreground, var(--jp-content-font-color1, white)));\n",
       "    --sklearn-color-background: var(--sg-background-color, var(--theme-background, var(--jp-layout-color0, #111)));\n",
       "    --sklearn-color-border-box: var(--sg-text-color, var(--theme-code-foreground, var(--jp-content-font-color1, white)));\n",
       "    --sklearn-color-icon: #878787;\n",
       "  }\n",
       "}\n",
       "\n",
       "#sk-container-id-1 {\n",
       "  color: var(--sklearn-color-text);\n",
       "}\n",
       "\n",
       "#sk-container-id-1 pre {\n",
       "  padding: 0;\n",
       "}\n",
       "\n",
       "#sk-container-id-1 input.sk-hidden--visually {\n",
       "  border: 0;\n",
       "  clip: rect(1px 1px 1px 1px);\n",
       "  clip: rect(1px, 1px, 1px, 1px);\n",
       "  height: 1px;\n",
       "  margin: -1px;\n",
       "  overflow: hidden;\n",
       "  padding: 0;\n",
       "  position: absolute;\n",
       "  width: 1px;\n",
       "}\n",
       "\n",
       "#sk-container-id-1 div.sk-dashed-wrapped {\n",
       "  border: 1px dashed var(--sklearn-color-line);\n",
       "  margin: 0 0.4em 0.5em 0.4em;\n",
       "  box-sizing: border-box;\n",
       "  padding-bottom: 0.4em;\n",
       "  background-color: var(--sklearn-color-background);\n",
       "}\n",
       "\n",
       "#sk-container-id-1 div.sk-container {\n",
       "  /* jupyter's `normalize.less` sets `[hidden] { display: none; }`\n",
       "     but bootstrap.min.css set `[hidden] { display: none !important; }`\n",
       "     so we also need the `!important` here to be able to override the\n",
       "     default hidden behavior on the sphinx rendered scikit-learn.org.\n",
       "     See: https://github.com/scikit-learn/scikit-learn/issues/21755 */\n",
       "  display: inline-block !important;\n",
       "  position: relative;\n",
       "}\n",
       "\n",
       "#sk-container-id-1 div.sk-text-repr-fallback {\n",
       "  display: none;\n",
       "}\n",
       "\n",
       "div.sk-parallel-item,\n",
       "div.sk-serial,\n",
       "div.sk-item {\n",
       "  /* draw centered vertical line to link estimators */\n",
       "  background-image: linear-gradient(var(--sklearn-color-text-on-default-background), var(--sklearn-color-text-on-default-background));\n",
       "  background-size: 2px 100%;\n",
       "  background-repeat: no-repeat;\n",
       "  background-position: center center;\n",
       "}\n",
       "\n",
       "/* Parallel-specific style estimator block */\n",
       "\n",
       "#sk-container-id-1 div.sk-parallel-item::after {\n",
       "  content: \"\";\n",
       "  width: 100%;\n",
       "  border-bottom: 2px solid var(--sklearn-color-text-on-default-background);\n",
       "  flex-grow: 1;\n",
       "}\n",
       "\n",
       "#sk-container-id-1 div.sk-parallel {\n",
       "  display: flex;\n",
       "  align-items: stretch;\n",
       "  justify-content: center;\n",
       "  background-color: var(--sklearn-color-background);\n",
       "  position: relative;\n",
       "}\n",
       "\n",
       "#sk-container-id-1 div.sk-parallel-item {\n",
       "  display: flex;\n",
       "  flex-direction: column;\n",
       "}\n",
       "\n",
       "#sk-container-id-1 div.sk-parallel-item:first-child::after {\n",
       "  align-self: flex-end;\n",
       "  width: 50%;\n",
       "}\n",
       "\n",
       "#sk-container-id-1 div.sk-parallel-item:last-child::after {\n",
       "  align-self: flex-start;\n",
       "  width: 50%;\n",
       "}\n",
       "\n",
       "#sk-container-id-1 div.sk-parallel-item:only-child::after {\n",
       "  width: 0;\n",
       "}\n",
       "\n",
       "/* Serial-specific style estimator block */\n",
       "\n",
       "#sk-container-id-1 div.sk-serial {\n",
       "  display: flex;\n",
       "  flex-direction: column;\n",
       "  align-items: center;\n",
       "  background-color: var(--sklearn-color-background);\n",
       "  padding-right: 1em;\n",
       "  padding-left: 1em;\n",
       "}\n",
       "\n",
       "\n",
       "/* Toggleable style: style used for estimator/Pipeline/ColumnTransformer box that is\n",
       "clickable and can be expanded/collapsed.\n",
       "- Pipeline and ColumnTransformer use this feature and define the default style\n",
       "- Estimators will overwrite some part of the style using the `sk-estimator` class\n",
       "*/\n",
       "\n",
       "/* Pipeline and ColumnTransformer style (default) */\n",
       "\n",
       "#sk-container-id-1 div.sk-toggleable {\n",
       "  /* Default theme specific background. It is overwritten whether we have a\n",
       "  specific estimator or a Pipeline/ColumnTransformer */\n",
       "  background-color: var(--sklearn-color-background);\n",
       "}\n",
       "\n",
       "/* Toggleable label */\n",
       "#sk-container-id-1 label.sk-toggleable__label {\n",
       "  cursor: pointer;\n",
       "  display: flex;\n",
       "  width: 100%;\n",
       "  margin-bottom: 0;\n",
       "  padding: 0.5em;\n",
       "  box-sizing: border-box;\n",
       "  text-align: center;\n",
       "  align-items: start;\n",
       "  justify-content: space-between;\n",
       "  gap: 0.5em;\n",
       "}\n",
       "\n",
       "#sk-container-id-1 label.sk-toggleable__label .caption {\n",
       "  font-size: 0.6rem;\n",
       "  font-weight: lighter;\n",
       "  color: var(--sklearn-color-text-muted);\n",
       "}\n",
       "\n",
       "#sk-container-id-1 label.sk-toggleable__label-arrow:before {\n",
       "  /* Arrow on the left of the label */\n",
       "  content: \"▸\";\n",
       "  float: left;\n",
       "  margin-right: 0.25em;\n",
       "  color: var(--sklearn-color-icon);\n",
       "}\n",
       "\n",
       "#sk-container-id-1 label.sk-toggleable__label-arrow:hover:before {\n",
       "  color: var(--sklearn-color-text);\n",
       "}\n",
       "\n",
       "/* Toggleable content - dropdown */\n",
       "\n",
       "#sk-container-id-1 div.sk-toggleable__content {\n",
       "  max-height: 0;\n",
       "  max-width: 0;\n",
       "  overflow: hidden;\n",
       "  text-align: left;\n",
       "  /* unfitted */\n",
       "  background-color: var(--sklearn-color-unfitted-level-0);\n",
       "}\n",
       "\n",
       "#sk-container-id-1 div.sk-toggleable__content.fitted {\n",
       "  /* fitted */\n",
       "  background-color: var(--sklearn-color-fitted-level-0);\n",
       "}\n",
       "\n",
       "#sk-container-id-1 div.sk-toggleable__content pre {\n",
       "  margin: 0.2em;\n",
       "  border-radius: 0.25em;\n",
       "  color: var(--sklearn-color-text);\n",
       "  /* unfitted */\n",
       "  background-color: var(--sklearn-color-unfitted-level-0);\n",
       "}\n",
       "\n",
       "#sk-container-id-1 div.sk-toggleable__content.fitted pre {\n",
       "  /* unfitted */\n",
       "  background-color: var(--sklearn-color-fitted-level-0);\n",
       "}\n",
       "\n",
       "#sk-container-id-1 input.sk-toggleable__control:checked~div.sk-toggleable__content {\n",
       "  /* Expand drop-down */\n",
       "  max-height: 200px;\n",
       "  max-width: 100%;\n",
       "  overflow: auto;\n",
       "}\n",
       "\n",
       "#sk-container-id-1 input.sk-toggleable__control:checked~label.sk-toggleable__label-arrow:before {\n",
       "  content: \"▾\";\n",
       "}\n",
       "\n",
       "/* Pipeline/ColumnTransformer-specific style */\n",
       "\n",
       "#sk-container-id-1 div.sk-label input.sk-toggleable__control:checked~label.sk-toggleable__label {\n",
       "  color: var(--sklearn-color-text);\n",
       "  background-color: var(--sklearn-color-unfitted-level-2);\n",
       "}\n",
       "\n",
       "#sk-container-id-1 div.sk-label.fitted input.sk-toggleable__control:checked~label.sk-toggleable__label {\n",
       "  background-color: var(--sklearn-color-fitted-level-2);\n",
       "}\n",
       "\n",
       "/* Estimator-specific style */\n",
       "\n",
       "/* Colorize estimator box */\n",
       "#sk-container-id-1 div.sk-estimator input.sk-toggleable__control:checked~label.sk-toggleable__label {\n",
       "  /* unfitted */\n",
       "  background-color: var(--sklearn-color-unfitted-level-2);\n",
       "}\n",
       "\n",
       "#sk-container-id-1 div.sk-estimator.fitted input.sk-toggleable__control:checked~label.sk-toggleable__label {\n",
       "  /* fitted */\n",
       "  background-color: var(--sklearn-color-fitted-level-2);\n",
       "}\n",
       "\n",
       "#sk-container-id-1 div.sk-label label.sk-toggleable__label,\n",
       "#sk-container-id-1 div.sk-label label {\n",
       "  /* The background is the default theme color */\n",
       "  color: var(--sklearn-color-text-on-default-background);\n",
       "}\n",
       "\n",
       "/* On hover, darken the color of the background */\n",
       "#sk-container-id-1 div.sk-label:hover label.sk-toggleable__label {\n",
       "  color: var(--sklearn-color-text);\n",
       "  background-color: var(--sklearn-color-unfitted-level-2);\n",
       "}\n",
       "\n",
       "/* Label box, darken color on hover, fitted */\n",
       "#sk-container-id-1 div.sk-label.fitted:hover label.sk-toggleable__label.fitted {\n",
       "  color: var(--sklearn-color-text);\n",
       "  background-color: var(--sklearn-color-fitted-level-2);\n",
       "}\n",
       "\n",
       "/* Estimator label */\n",
       "\n",
       "#sk-container-id-1 div.sk-label label {\n",
       "  font-family: monospace;\n",
       "  font-weight: bold;\n",
       "  display: inline-block;\n",
       "  line-height: 1.2em;\n",
       "}\n",
       "\n",
       "#sk-container-id-1 div.sk-label-container {\n",
       "  text-align: center;\n",
       "}\n",
       "\n",
       "/* Estimator-specific */\n",
       "#sk-container-id-1 div.sk-estimator {\n",
       "  font-family: monospace;\n",
       "  border: 1px dotted var(--sklearn-color-border-box);\n",
       "  border-radius: 0.25em;\n",
       "  box-sizing: border-box;\n",
       "  margin-bottom: 0.5em;\n",
       "  /* unfitted */\n",
       "  background-color: var(--sklearn-color-unfitted-level-0);\n",
       "}\n",
       "\n",
       "#sk-container-id-1 div.sk-estimator.fitted {\n",
       "  /* fitted */\n",
       "  background-color: var(--sklearn-color-fitted-level-0);\n",
       "}\n",
       "\n",
       "/* on hover */\n",
       "#sk-container-id-1 div.sk-estimator:hover {\n",
       "  /* unfitted */\n",
       "  background-color: var(--sklearn-color-unfitted-level-2);\n",
       "}\n",
       "\n",
       "#sk-container-id-1 div.sk-estimator.fitted:hover {\n",
       "  /* fitted */\n",
       "  background-color: var(--sklearn-color-fitted-level-2);\n",
       "}\n",
       "\n",
       "/* Specification for estimator info (e.g. \"i\" and \"?\") */\n",
       "\n",
       "/* Common style for \"i\" and \"?\" */\n",
       "\n",
       ".sk-estimator-doc-link,\n",
       "a:link.sk-estimator-doc-link,\n",
       "a:visited.sk-estimator-doc-link {\n",
       "  float: right;\n",
       "  font-size: smaller;\n",
       "  line-height: 1em;\n",
       "  font-family: monospace;\n",
       "  background-color: var(--sklearn-color-background);\n",
       "  border-radius: 1em;\n",
       "  height: 1em;\n",
       "  width: 1em;\n",
       "  text-decoration: none !important;\n",
       "  margin-left: 0.5em;\n",
       "  text-align: center;\n",
       "  /* unfitted */\n",
       "  border: var(--sklearn-color-unfitted-level-1) 1pt solid;\n",
       "  color: var(--sklearn-color-unfitted-level-1);\n",
       "}\n",
       "\n",
       ".sk-estimator-doc-link.fitted,\n",
       "a:link.sk-estimator-doc-link.fitted,\n",
       "a:visited.sk-estimator-doc-link.fitted {\n",
       "  /* fitted */\n",
       "  border: var(--sklearn-color-fitted-level-1) 1pt solid;\n",
       "  color: var(--sklearn-color-fitted-level-1);\n",
       "}\n",
       "\n",
       "/* On hover */\n",
       "div.sk-estimator:hover .sk-estimator-doc-link:hover,\n",
       ".sk-estimator-doc-link:hover,\n",
       "div.sk-label-container:hover .sk-estimator-doc-link:hover,\n",
       ".sk-estimator-doc-link:hover {\n",
       "  /* unfitted */\n",
       "  background-color: var(--sklearn-color-unfitted-level-3);\n",
       "  color: var(--sklearn-color-background);\n",
       "  text-decoration: none;\n",
       "}\n",
       "\n",
       "div.sk-estimator.fitted:hover .sk-estimator-doc-link.fitted:hover,\n",
       ".sk-estimator-doc-link.fitted:hover,\n",
       "div.sk-label-container:hover .sk-estimator-doc-link.fitted:hover,\n",
       ".sk-estimator-doc-link.fitted:hover {\n",
       "  /* fitted */\n",
       "  background-color: var(--sklearn-color-fitted-level-3);\n",
       "  color: var(--sklearn-color-background);\n",
       "  text-decoration: none;\n",
       "}\n",
       "\n",
       "/* Span, style for the box shown on hovering the info icon */\n",
       ".sk-estimator-doc-link span {\n",
       "  display: none;\n",
       "  z-index: 9999;\n",
       "  position: relative;\n",
       "  font-weight: normal;\n",
       "  right: .2ex;\n",
       "  padding: .5ex;\n",
       "  margin: .5ex;\n",
       "  width: min-content;\n",
       "  min-width: 20ex;\n",
       "  max-width: 50ex;\n",
       "  color: var(--sklearn-color-text);\n",
       "  box-shadow: 2pt 2pt 4pt #999;\n",
       "  /* unfitted */\n",
       "  background: var(--sklearn-color-unfitted-level-0);\n",
       "  border: .5pt solid var(--sklearn-color-unfitted-level-3);\n",
       "}\n",
       "\n",
       ".sk-estimator-doc-link.fitted span {\n",
       "  /* fitted */\n",
       "  background: var(--sklearn-color-fitted-level-0);\n",
       "  border: var(--sklearn-color-fitted-level-3);\n",
       "}\n",
       "\n",
       ".sk-estimator-doc-link:hover span {\n",
       "  display: block;\n",
       "}\n",
       "\n",
       "/* \"?\"-specific style due to the `<a>` HTML tag */\n",
       "\n",
       "#sk-container-id-1 a.estimator_doc_link {\n",
       "  float: right;\n",
       "  font-size: 1rem;\n",
       "  line-height: 1em;\n",
       "  font-family: monospace;\n",
       "  background-color: var(--sklearn-color-background);\n",
       "  border-radius: 1rem;\n",
       "  height: 1rem;\n",
       "  width: 1rem;\n",
       "  text-decoration: none;\n",
       "  /* unfitted */\n",
       "  color: var(--sklearn-color-unfitted-level-1);\n",
       "  border: var(--sklearn-color-unfitted-level-1) 1pt solid;\n",
       "}\n",
       "\n",
       "#sk-container-id-1 a.estimator_doc_link.fitted {\n",
       "  /* fitted */\n",
       "  border: var(--sklearn-color-fitted-level-1) 1pt solid;\n",
       "  color: var(--sklearn-color-fitted-level-1);\n",
       "}\n",
       "\n",
       "/* On hover */\n",
       "#sk-container-id-1 a.estimator_doc_link:hover {\n",
       "  /* unfitted */\n",
       "  background-color: var(--sklearn-color-unfitted-level-3);\n",
       "  color: var(--sklearn-color-background);\n",
       "  text-decoration: none;\n",
       "}\n",
       "\n",
       "#sk-container-id-1 a.estimator_doc_link.fitted:hover {\n",
       "  /* fitted */\n",
       "  background-color: var(--sklearn-color-fitted-level-3);\n",
       "}\n",
       "</style><div id=\"sk-container-id-1\" class=\"sk-top-container\"><div class=\"sk-text-repr-fallback\"><pre>StandardScaler()</pre><b>In a Jupyter environment, please rerun this cell to show the HTML representation or trust the notebook. <br />On GitHub, the HTML representation is unable to render, please try loading this page with nbviewer.org.</b></div><div class=\"sk-container\" hidden><div class=\"sk-item\"><div class=\"sk-estimator fitted sk-toggleable\"><input class=\"sk-toggleable__control sk-hidden--visually\" id=\"sk-estimator-id-1\" type=\"checkbox\" checked><label for=\"sk-estimator-id-1\" class=\"sk-toggleable__label fitted sk-toggleable__label-arrow\"><div><div>StandardScaler</div></div><div><a class=\"sk-estimator-doc-link fitted\" rel=\"noreferrer\" target=\"_blank\" href=\"https://scikit-learn.org/1.6/modules/generated/sklearn.preprocessing.StandardScaler.html\">?<span>Documentation for StandardScaler</span></a><span class=\"sk-estimator-doc-link fitted\">i<span>Fitted</span></span></div></label><div class=\"sk-toggleable__content fitted\"><pre>StandardScaler()</pre></div> </div></div></div></div>"
      ],
      "text/plain": [
       "StandardScaler()"
      ]
     },
     "execution_count": 136,
     "metadata": {},
     "output_type": "execute_result"
    }
   ],
   "source": [
    "scaler.fit(X_train)"
   ]
  },
  {
   "cell_type": "code",
   "execution_count": 137,
   "id": "7cd2ea16",
   "metadata": {},
   "outputs": [
    {
     "data": {
      "text/plain": [
       "array([[ 2.48264720e-01,  2.06229474e+00],\n",
       "       [-3.93005927e-02, -2.30205202e-01],\n",
       "       [-4.22721010e-01,  1.23126351e+00],\n",
       "       [ 3.44119824e-01,  4.86201029e-01],\n",
       "       [-5.18576114e-01, -1.49108017e+00],\n",
       "       [ 2.48264720e-01,  1.42326038e-01],\n",
       "       [-1.47712716e+00,  3.14263533e-01],\n",
       "       [-3.93005927e-02, -1.06123643e+00],\n",
       "       [-8.06141426e-01,  3.71576032e-01],\n",
       "       [ 1.97365660e+00, -1.34779892e+00],\n",
       "       [ 2.48264720e-01,  5.63572902e-02],\n",
       "       [-8.06141426e-01, -1.20451768e+00],\n",
       "       [ 1.20681576e+00,  5.14857278e-01],\n",
       "       [-9.97851635e-01, -3.73486448e-01],\n",
       "       [-1.35155697e-01,  2.11960724e+00],\n",
       "       [ 1.87780149e+00, -1.26183017e+00],\n",
       "       [ 2.16536680e+00,  3.71576032e-01],\n",
       "       [ 7.27540241e-01, -1.26183017e+00],\n",
       "       [ 1.11096066e+00,  4.57544780e-01],\n",
       "       [ 9.19250449e-01,  1.00201352e+00],\n",
       "       [ 9.19250449e-01,  1.05932601e+00],\n",
       "       [-1.28541695e+00, -1.08989268e+00],\n",
       "       [ 8.23395345e-01, -8.31986436e-01],\n",
       "       [-1.38127205e+00, -1.20451768e+00],\n",
       "       [-1.76469247e+00,  1.70982287e-01],\n",
       "       [-8.06141426e-01,  1.42326038e-01],\n",
       "       [ 9.19250449e-01, -7.74673938e-01],\n",
       "       [ 5.65545115e-02, -5.74080193e-01],\n",
       "       [ 5.65545115e-02,  2.85607284e-01],\n",
       "       [-4.22721010e-01,  2.26288848e+00],\n",
       "       [ 1.52409616e-01,  1.99638536e-01],\n",
       "       [ 4.39974928e-01,  2.85607284e-01],\n",
       "       [ 5.65545115e-02, -5.74080193e-01],\n",
       "       [-1.28541695e+00, -4.30798947e-01],\n",
       "       [-5.18576114e-01,  2.29154473e+00],\n",
       "       [ 1.30267087e+00, -1.34779892e+00],\n",
       "       [ 3.44119824e-01, -2.87517701e-01],\n",
       "       [-1.47712716e+00, -4.30798947e-01],\n",
       "       [-9.01996531e-01,  1.51782600e+00],\n",
       "       [ 1.01510555e+00,  1.74707600e+00],\n",
       "       [ 8.23395345e-01,  2.56951035e-01],\n",
       "       [ 1.52409616e-01,  2.56951035e-01],\n",
       "       [ 1.52409616e-01,  8.50135394e-02],\n",
       "       [-5.18576114e-01,  8.58732269e-01],\n",
       "       [ 2.06951170e+00, -8.03330187e-01],\n",
       "       [ 3.44119824e-01,  5.63572902e-02],\n",
       "       [-2.31010801e-01, -5.74080193e-01],\n",
       "       [-6.14431218e-01, -5.82677068e-02],\n",
       "       [-7.10286322e-01,  1.05932601e+00],\n",
       "       [ 1.01510555e+00,  1.40320100e+00],\n",
       "       [-9.01996531e-01, -9.46611433e-01],\n",
       "       [-6.14431218e-01, -1.49108017e+00],\n",
       "       [-1.09370674e+00, -1.54839267e+00],\n",
       "       [-9.01996531e-01,  4.28888530e-01],\n",
       "       [ 4.39974928e-01,  2.26288848e+00],\n",
       "       [-1.28541695e+00,  4.00232281e-01],\n",
       "       [-1.35155697e-01,  1.37454476e+00],\n",
       "       [-9.01996531e-01,  5.43513527e-01],\n",
       "       [-8.06141426e-01,  2.23423223e+00],\n",
       "       [-7.10286322e-01,  2.56951035e-01],\n",
       "       [ 5.65545115e-02, -4.30798947e-01],\n",
       "       [ 1.52409616e-01,  1.83304474e+00],\n",
       "       [ 7.27540241e-01,  2.56951035e-01],\n",
       "       [-2.31010801e-01, -9.17955184e-01],\n",
       "       [-7.10286322e-01, -2.30205202e-01],\n",
       "       [ 1.01510555e+00, -8.31986436e-01],\n",
       "       [-1.28541695e+00, -1.46242392e+00],\n",
       "       [-1.76469247e+00, -9.55208308e-04],\n",
       "       [ 3.44119824e-01,  2.56951035e-01],\n",
       "       [ 1.59023618e+00, -9.55208308e-04],\n",
       "       [ 5.35830033e-01,  1.68976350e+00],\n",
       "       [ 1.11096066e+00, -8.89298935e-01],\n",
       "       [ 2.48264720e-01, -3.73486448e-01],\n",
       "       [-9.97851635e-01,  5.72169776e-01],\n",
       "       [ 2.48264720e-01,  2.28294786e-01],\n",
       "       [ 1.01510555e+00,  1.94766974e+00],\n",
       "       [ 4.39974928e-01, -9.55208308e-04],\n",
       "       [-3.93005927e-02, -5.16767695e-01],\n",
       "       [ 1.20681576e+00, -9.75267682e-01],\n",
       "       [-2.31010801e-01, -1.34779892e+00],\n",
       "       [ 2.48264720e-01, -6.60048941e-01],\n",
       "       [-3.26865905e-01, -1.29048642e+00],\n",
       "       [ 1.11096066e+00, -1.20451768e+00],\n",
       "       [-2.31010801e-01, -3.73486448e-01],\n",
       "       [-2.31010801e-01,  5.14857278e-01],\n",
       "       [ 1.59023618e+00,  9.73357266e-01],\n",
       "       [ 1.01510555e+00,  7.44107272e-01],\n",
       "       [ 1.49438107e+00,  5.63572902e-02],\n",
       "       [ 1.87780149e+00, -1.06123643e+00],\n",
       "       [-3.93005927e-02, -3.73486448e-01],\n",
       "       [-1.57298226e+00,  5.63572902e-02],\n",
       "       [-1.86054757e+00,  4.57544780e-01],\n",
       "       [-3.26865905e-01, -7.74673938e-01],\n",
       "       [ 1.01510555e+00,  5.72169776e-01],\n",
       "       [ 9.19250449e-01,  1.23126351e+00],\n",
       "       [ 3.44119824e-01,  5.63572902e-02],\n",
       "       [-1.09370674e+00, -1.57704892e+00],\n",
       "       [-9.97851635e-01, -4.59455196e-01],\n",
       "       [-5.18576114e-01,  1.34588851e+00],\n",
       "       [-2.31010801e-01, -2.87517701e-01],\n",
       "       [ 1.59023618e+00, -1.26183017e+00],\n",
       "       [-3.26865905e-01,  1.20260726e+00],\n",
       "       [ 7.27540241e-01, -1.37645517e+00],\n",
       "       [ 1.20681576e+00, -1.43376767e+00],\n",
       "       [ 1.01510555e+00, -1.00392393e+00],\n",
       "       [-2.31010801e-01, -1.37645517e+00],\n",
       "       [ 4.39974928e-01,  2.85607284e-01],\n",
       "       [ 1.39852597e+00,  2.29154473e+00],\n",
       "       [-1.18956184e+00,  2.85607284e-01],\n",
       "       [-1.28541695e+00, -1.34779892e+00],\n",
       "       [-9.97851635e-01,  5.43513527e-01],\n",
       "       [-1.66883736e+00,  3.42919783e-01],\n",
       "       [-2.31010801e-01,  1.42326038e-01],\n",
       "       [ 1.49438107e+00, -1.03258018e+00],\n",
       "       [-1.57298226e+00,  5.14857278e-01],\n",
       "       [-1.86054757e+00, -5.82677068e-02],\n",
       "       [-3.93005927e-02, -9.55208308e-04],\n",
       "       [-6.14431218e-01, -1.03258018e+00],\n",
       "       [ 2.48264720e-01, -3.73486448e-01],\n",
       "       [-4.22721010e-01, -8.31986436e-01],\n",
       "       [-1.09370674e+00, -1.00392393e+00],\n",
       "       [-1.76469247e+00, -1.26183017e+00],\n",
       "       [-3.93005927e-02,  5.63572902e-02],\n",
       "       [-9.01996531e-01, -1.08989268e+00],\n",
       "       [ 4.39974928e-01,  2.56951035e-01],\n",
       "       [-1.09370674e+00, -5.16767695e-01],\n",
       "       [ 2.48264720e-01, -2.58861451e-01],\n",
       "       [-5.18576114e-01,  1.43185725e+00],\n",
       "       [ 1.39852597e+00, -1.40511142e+00],\n",
       "       [-6.14431218e-01,  1.37454476e+00],\n",
       "       [-2.31010801e-01, -7.46017689e-01],\n",
       "       [-2.31010801e-01,  8.50135394e-02],\n",
       "       [-6.14431218e-01, -1.15580205e-01],\n",
       "       [ 8.23395345e-01,  1.13669789e-01],\n",
       "       [ 5.35830033e-01,  1.20260726e+00],\n",
       "       [-7.10286322e-01,  2.85607284e-01],\n",
       "       [ 1.01510555e+00, -1.14720518e+00],\n",
       "       [-2.31010801e-01, -1.44236455e-01],\n",
       "       [-1.09370674e+00, -1.08989268e+00],\n",
       "       [ 9.19250449e-01, -1.34779892e+00],\n",
       "       [-7.10286322e-01, -1.57704892e+00],\n",
       "       [-3.93005927e-02,  2.56951035e-01],\n",
       "       [ 1.87780149e+00,  1.13669789e-01],\n",
       "       [-5.18576114e-01,  1.86170099e+00],\n",
       "       [ 5.35830033e-01,  1.80438849e+00],\n",
       "       [-3.26865905e-01,  1.28857601e+00],\n",
       "       [ 9.19250449e-01, -1.03258018e+00],\n",
       "       [ 1.11096066e+00, -9.75267682e-01],\n",
       "       [-9.97851635e-01, -1.51973642e+00],\n",
       "       [-3.93005927e-02,  1.91901349e+00],\n",
       "       [-4.22721010e-01, -2.96114575e-02],\n",
       "       [-9.97851635e-01, -1.43376767e+00],\n",
       "       [ 3.44119824e-01,  2.77010409e-02],\n",
       "       [ 2.06951170e+00,  5.14857278e-01],\n",
       "       [ 1.11096066e+00,  5.43513527e-01],\n",
       "       [-1.09370674e+00,  4.57544780e-01],\n",
       "       [-8.06141426e-01, -7.74673938e-01],\n",
       "       [-2.31010801e-01, -4.88111445e-01],\n",
       "       [ 1.39852597e+00,  1.94766974e+00],\n",
       "       [ 2.06951170e+00,  1.71841975e+00],\n",
       "       [-1.76469247e+00, -1.40511142e+00],\n",
       "       [ 4.39974928e-01,  5.72169776e-01],\n",
       "       [-1.09370674e+00, -1.51973642e+00],\n",
       "       [ 9.19250449e-01, -1.14720518e+00],\n",
       "       [-7.10286322e-01,  5.43513527e-01],\n",
       "       [-3.93005927e-02, -4.88111445e-01],\n",
       "       [ 1.39852597e+00, -9.17955184e-01],\n",
       "       [ 1.78194639e+00, -2.87517701e-01],\n",
       "       [-1.38127205e+00, -2.01548953e-01],\n",
       "       [-1.09370674e+00,  2.85607284e-01],\n",
       "       [-2.31010801e-01, -1.43376767e+00],\n",
       "       [-1.09370674e+00,  5.63572902e-02],\n",
       "       [-2.31010801e-01, -1.23317393e+00],\n",
       "       [ 1.01510555e+00,  2.03363849e+00],\n",
       "       [ 4.39974928e-01,  1.08798226e+00],\n",
       "       [ 6.31685137e-01,  1.97632599e+00],\n",
       "       [-1.35155697e-01, -1.06123643e+00],\n",
       "       [-1.76469247e+00,  4.28888530e-01],\n",
       "       [-9.97851635e-01,  5.14857278e-01],\n",
       "       [-1.86054757e+00, -7.46017689e-01],\n",
       "       [ 3.44119824e-01, -5.16767695e-01],\n",
       "       [ 1.52409616e-01, -8.03330187e-01],\n",
       "       [ 4.39974928e-01,  1.42326038e-01],\n",
       "       [ 1.52409616e-01,  7.44107272e-01],\n",
       "       [-2.31010801e-01,  1.99638536e-01],\n",
       "       [-1.66883736e+00,  4.57544780e-01],\n",
       "       [ 2.06951170e+00,  2.09095099e+00],\n",
       "       [-1.47712716e+00, -1.49108017e+00],\n",
       "       [-3.93005927e-02,  2.85607284e-01],\n",
       "       [ 1.52409616e-01,  1.48916975e+00],\n",
       "       [ 3.44119824e-01, -5.16767695e-01],\n",
       "       [ 1.97365660e+00,  8.87388518e-01],\n",
       "       [-9.97851635e-01,  7.44107272e-01],\n",
       "       [-8.06141426e-01, -6.60048941e-01],\n",
       "       [-3.26865905e-01, -7.74673938e-01],\n",
       "       [ 7.27540241e-01,  1.74707600e+00],\n",
       "       [-1.35155697e-01, -2.87517701e-01],\n",
       "       [ 8.23395345e-01, -1.20451768e+00],\n",
       "       [ 2.16536680e+00, -6.88705190e-01],\n",
       "       [ 1.78194639e+00,  1.80438849e+00],\n",
       "       [ 8.23395345e-01,  1.34588851e+00],\n",
       "       [ 1.49438107e+00,  2.09095099e+00],\n",
       "       [ 5.65545115e-02, -3.16173950e-01],\n",
       "       [-7.10286322e-01,  1.31723226e+00],\n",
       "       [ 2.48264720e-01, -2.87517701e-01],\n",
       "       [ 1.11096066e+00,  2.03363849e+00],\n",
       "       [-9.01996531e-01, -3.16173950e-01],\n",
       "       [-2.31010801e-01,  5.63572902e-02],\n",
       "       [ 9.19250449e-01,  2.11960724e+00],\n",
       "       [-6.14431218e-01,  2.77010409e-02],\n",
       "       [-9.97851635e-01, -3.44830199e-01],\n",
       "       [-1.28541695e+00, -4.30798947e-01],\n",
       "       [-4.22721010e-01, -2.87517701e-01],\n",
       "       [-1.18956184e+00,  4.86201029e-01],\n",
       "       [-1.66883736e+00, -1.34779892e+00],\n",
       "       [ 8.23395345e-01,  5.14857278e-01],\n",
       "       [-9.97851635e-01, -3.44830199e-01],\n",
       "       [ 1.01510555e+00, -1.06123643e+00],\n",
       "       [ 3.44119824e-01,  5.63572902e-02],\n",
       "       [-1.35155697e-01, -5.74080193e-01],\n",
       "       [-2.31010801e-01, -1.29048642e+00],\n",
       "       [-7.10286322e-01,  4.86201029e-01],\n",
       "       [-9.01996531e-01, -3.16173950e-01],\n",
       "       [-1.09370674e+00, -7.74673938e-01],\n",
       "       [-8.06141426e-01,  2.85607284e-01],\n",
       "       [-1.66883736e+00,  1.13669789e-01],\n",
       "       [-1.76469247e+00, -1.29048642e+00],\n",
       "       [-1.86054757e+00, -5.16767695e-01],\n",
       "       [-2.31010801e-01,  6.00826026e-01],\n",
       "       [-1.18956184e+00,  5.72169776e-01],\n",
       "       [ 7.27540241e-01, -1.08989268e+00],\n",
       "       [-2.31010801e-01, -4.30798947e-01],\n",
       "       [ 1.87780149e+00, -2.87517701e-01],\n",
       "       [-2.31010801e-01, -8.89298935e-01],\n",
       "       [ 4.39974928e-01, -4.88111445e-01],\n",
       "       [-1.35155697e-01,  1.60379475e+00],\n",
       "       [-1.66883736e+00,  3.42919783e-01],\n",
       "       [-6.14431218e-01, -1.57704892e+00],\n",
       "       [ 1.52409616e-01,  2.77010409e-02],\n",
       "       [ 1.68609128e+00, -8.89298935e-01],\n",
       "       [ 1.78194639e+00,  9.73357266e-01],\n",
       "       [ 2.48264720e-01, -3.73486448e-01],\n",
       "       [-2.31010801e-01,  5.63572902e-02],\n",
       "       [ 1.52409616e-01,  1.03066976e+00],\n",
       "       [ 5.65545115e-02, -5.45423944e-01],\n",
       "       [ 1.01510555e+00,  1.83304474e+00],\n",
       "       [ 3.44119824e-01, -2.01548953e-01],\n",
       "       [-9.01996531e-01, -7.46017689e-01],\n",
       "       [ 8.23395345e-01, -1.08989268e+00],\n",
       "       [ 8.23395345e-01,  7.44107272e-01],\n",
       "       [ 8.23395345e-01,  3.42919783e-01],\n",
       "       [ 9.19250449e-01, -1.43376767e+00],\n",
       "       [-1.09370674e+00, -1.14720518e+00],\n",
       "       [-5.18576114e-01,  4.57544780e-01],\n",
       "       [ 2.06951170e+00, -1.17586143e+00],\n",
       "       [-8.06141426e-01, -2.58861451e-01],\n",
       "       [ 1.49438107e+00,  9.73357266e-01],\n",
       "       [-3.93005927e-02,  2.77010409e-02],\n",
       "       [ 4.39974928e-01, -1.72892704e-01],\n",
       "       [-1.28541695e+00,  5.43513527e-01],\n",
       "       [ 2.48264720e-01, -1.44236455e-01],\n",
       "       [-9.01996531e-01,  2.56951035e-01],\n",
       "       [-9.97851635e-01,  1.91901349e+00],\n",
       "       [-6.14431218e-01, -3.44830199e-01],\n",
       "       [ 1.11096066e+00, -1.44236455e-01],\n",
       "       [ 8.23395345e-01, -1.37645517e+00],\n",
       "       [-4.22721010e-01, -1.20451768e+00],\n",
       "       [ 1.97365660e+00, -6.60048941e-01],\n",
       "       [-1.35155697e-01,  1.57513850e+00],\n",
       "       [ 1.01510555e+00,  1.13669789e-01],\n",
       "       [ 6.31685137e-01, -8.89298935e-01],\n",
       "       [-1.09370674e+00,  1.37454476e+00],\n",
       "       [-1.86054757e+00,  3.42919783e-01],\n",
       "       [ 2.16536680e+00, -1.03258018e+00],\n",
       "       [ 1.11096066e+00,  1.13669789e-01],\n",
       "       [-1.35155697e-01,  1.42326038e-01],\n",
       "       [-4.22721010e-01, -7.74673938e-01],\n",
       "       [ 2.48264720e-01,  2.77010409e-02],\n",
       "       [ 1.30267087e+00,  2.17691973e+00],\n",
       "       [ 7.27540241e-01, -1.37645517e+00],\n",
       "       [-3.93005927e-02,  6.58138524e-01],\n",
       "       [ 9.19250449e-01, -5.74080193e-01],\n",
       "       [ 8.23395345e-01, -1.34779892e+00],\n",
       "       [ 4.39974928e-01, -4.59455196e-01],\n",
       "       [ 1.52409616e-01,  1.83304474e+00],\n",
       "       [ 5.65545115e-02,  1.20260726e+00],\n",
       "       [-1.09370674e+00,  4.00232281e-01],\n",
       "       [-5.18576114e-01,  1.34588851e+00],\n",
       "       [ 4.39974928e-01, -4.59455196e-01],\n",
       "       [-6.14431218e-01,  1.13669789e-01],\n",
       "       [-7.10286322e-01, -6.02736442e-01],\n",
       "       [ 1.52409616e-01, -8.03330187e-01],\n",
       "       [ 1.87780149e+00,  1.48916975e+00],\n",
       "       [-1.18956184e+00, -1.06123643e+00],\n",
       "       [-1.38127205e+00,  3.42919783e-01],\n",
       "       [-1.18956184e+00,  2.56951035e-01],\n",
       "       [ 1.49438107e+00,  3.42919783e-01],\n",
       "       [-1.47712716e+00, -1.23317393e+00],\n",
       "       [ 4.39974928e-01, -1.44236455e-01],\n",
       "       [-8.06141426e-01, -7.74673938e-01]])"
      ]
     },
     "execution_count": 137,
     "metadata": {},
     "output_type": "execute_result"
    }
   ],
   "source": [
    "scaler.transform(X_train)"
   ]
  },
  {
   "cell_type": "code",
   "execution_count": 138,
   "id": "7f00c512",
   "metadata": {},
   "outputs": [
    {
     "data": {
      "text/plain": [
       "array([[ 0.24826472,  1.05932601],\n",
       "       [-0.03930059,  0.14232604],\n",
       "       [ 0.24826472, -0.31617395],\n",
       "       [-0.2310108 , -0.3448302 ],\n",
       "       [ 0.43997493,  0.97335727],\n",
       "       [-0.90199653,  0.48620103],\n",
       "       [-1.38127205, -1.43376767],\n",
       "       [-0.2310108 ,  0.14232604],\n",
       "       [ 1.01510555, -1.06123643],\n",
       "       [-0.03930059,  2.11960724],\n",
       "       [-0.99785163, -1.11854893],\n",
       "       [-1.38127205, -0.11558021],\n",
       "       [ 0.43997493,  0.08501354],\n",
       "       [-0.1351557 , -0.20154895],\n",
       "       [-0.03930059, -0.43079895],\n",
       "       [ 0.05655451, -0.25886145],\n",
       "       [ 2.0695117 ,  0.17098229],\n",
       "       [-0.2310108 ,  1.08798226],\n",
       "       [ 0.82339535, -0.31617395],\n",
       "       [-0.2310108 , -0.66004894],\n",
       "       [-0.90199653,  0.40023228],\n",
       "       [-0.42272101, -1.11854893],\n",
       "       [ 2.1653668 , -0.80333019],\n",
       "       [-0.2310108 , -0.31617395],\n",
       "       [ 0.24826472,  0.14232604],\n",
       "       [-0.2310108 , -0.57408019],\n",
       "       [ 1.01510555, -1.17586143],\n",
       "       [ 0.72754024, -0.71736144],\n",
       "       [-1.28541695, -0.3448302 ],\n",
       "       [-1.47712716, -0.20154895],\n",
       "       [-0.61443122,  0.17098229],\n",
       "       [-0.2310108 ,  0.25695103],\n",
       "       [-0.51857611, -1.49108017],\n",
       "       [ 0.34411982, -1.14720518],\n",
       "       [ 0.34411982, -0.54542394],\n",
       "       [ 0.34411982,  0.05635729],\n",
       "       [-0.80614143,  0.37157603],\n",
       "       [ 0.15240962, -0.31617395],\n",
       "       [-1.76469247, -1.46242392],\n",
       "       [ 0.34411982,  0.28560728],\n",
       "       [-1.57298226, -0.05826771],\n",
       "       [-0.03930059,  0.11366979],\n",
       "       [ 1.68609128,  1.5751385 ],\n",
       "       [ 0.91925045, -0.54542394],\n",
       "       [ 0.05655451, -0.25886145],\n",
       "       [ 2.0695117 ,  0.37157603],\n",
       "       [-1.09370674,  0.31426353],\n",
       "       [ 0.15240962,  0.02770104],\n",
       "       [ 0.15240962,  0.14232604],\n",
       "       [ 0.43997493, -0.14423645],\n",
       "       [ 1.9736566 ,  0.71545102],\n",
       "       [ 1.20681576, -0.74601769],\n",
       "       [ 1.68609128,  1.71841975],\n",
       "       [ 2.1653668 ,  0.91604477],\n",
       "       [-0.1351557 , -0.51676769],\n",
       "       [ 0.15240962, -0.25886145],\n",
       "       [-1.09370674, -1.57704892],\n",
       "       [ 0.34411982, -0.31617395],\n",
       "       [ 1.39852597,  0.57216978],\n",
       "       [-1.28541695, -1.23317393],\n",
       "       [-0.61443122,  0.54351353],\n",
       "       [ 0.91925045, -0.66004894],\n",
       "       [ 1.59023618,  1.08798226],\n",
       "       [ 0.91925045, -0.60273644],\n",
       "       [-1.57298226, -1.54839267],\n",
       "       [-0.2310108 ,  0.77276352],\n",
       "       [-1.18956184, -1.37645517],\n",
       "       [ 1.30267087,  1.83304474],\n",
       "       [ 0.05655451,  0.02770104],\n",
       "       [-0.2310108 ,  2.20557598],\n",
       "       [-0.32686591,  0.05635729],\n",
       "       [ 1.11096066, -1.20451768],\n",
       "       [ 2.1653668 ,  1.08798226],\n",
       "       [ 1.11096066,  0.51485728],\n",
       "       [-0.42272101, -0.54542394],\n",
       "       [-1.66883736, -0.97526768],\n",
       "       [ 0.91925045, -1.29048642],\n",
       "       [-1.66883736, -0.60273644],\n",
       "       [-0.2310108 ,  0.02770104],\n",
       "       [-0.03930059,  0.19963854],\n",
       "       [-0.90199653, -0.43079895],\n",
       "       [ 1.9736566 ,  2.11960724],\n",
       "       [-0.99785163,  0.40023228],\n",
       "       [ 0.34411982, -0.71736144],\n",
       "       [ 1.39852597,  1.25991976],\n",
       "       [-0.1351557 ,  0.83007602],\n",
       "       [-1.38127205, -0.63139269],\n",
       "       [ 1.9736566 , -0.91795518],\n",
       "       [ 0.05655451,  1.23126351],\n",
       "       [ 0.05655451,  0.02770104],\n",
       "       [-0.03930059,  2.17691973],\n",
       "       [ 0.05655451, -0.14423645],\n",
       "       [-0.71028632, -1.51973642],\n",
       "       [-0.2310108 , -0.25886145],\n",
       "       [-0.03930059,  0.22829479],\n",
       "       [-0.71028632,  1.86170099],\n",
       "       [-1.09370674,  0.28560728],\n",
       "       [-0.03930059,  0.28560728],\n",
       "       [-0.1351557 , -0.4594552 ],\n",
       "       [ 2.1653668 , -0.80333019]])"
      ]
     },
     "execution_count": 138,
     "metadata": {},
     "output_type": "execute_result"
    }
   ],
   "source": [
    "scaler.transform(X_test)"
   ]
  },
  {
   "cell_type": "code",
   "execution_count": null,
   "id": "6f808e80",
   "metadata": {},
   "outputs": [],
   "source": []
  }
 ],
 "metadata": {
  "kernelspec": {
   "display_name": ".venv",
   "language": "python",
   "name": "python3"
  },
  "language_info": {
   "codemirror_mode": {
    "name": "ipython",
    "version": 3
   },
   "file_extension": ".py",
   "mimetype": "text/x-python",
   "name": "python",
   "nbconvert_exporter": "python",
   "pygments_lexer": "ipython3",
   "version": "3.13.3"
  }
 },
 "nbformat": 4,
 "nbformat_minor": 5
}
